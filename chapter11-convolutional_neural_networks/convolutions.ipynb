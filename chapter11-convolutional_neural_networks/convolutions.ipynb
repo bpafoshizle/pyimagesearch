{
 "cells": [
  {
   "cell_type": "code",
   "execution_count": 1,
   "id": "4db8ec06-621b-41e1-9fed-9387932f9a90",
   "metadata": {},
   "outputs": [],
   "source": [
    "import cv2\n",
    "image = cv2.imread(\"jemma.png\")\n",
    "gray = cv2.cvtColor(image, cv2.COLOR_BGR2GRAY)"
   ]
  },
  {
   "cell_type": "markdown",
   "id": "bfd35600-8811-49ee-8186-61ebee8ab186",
   "metadata": {},
   "source": [
    "Before this will work on a mac, you need to have an updated Xquartz and run this command in a terminal on the mac to allow any connections from localhost:\n",
    "\n",
    "`xhost +localhost`\n",
    "\n",
    "Taken from this [discussion](https://gist.github.com/cschiewek/246a244ba23da8b9f0e7b11a68bf3285?permalink_comment_id=3477013#gistcomment-3477013)"
   ]
  },
  {
   "cell_type": "code",
   "execution_count": 2,
   "id": "48176eea-633c-4e19-99e5-8f574b3b0238",
   "metadata": {},
   "outputs": [
    {
     "name": "stderr",
     "output_type": "stream",
     "text": [
      "QStandardPaths: XDG_RUNTIME_DIR not set, defaulting to '/tmp/runtime-root'\n",
      "libGL error: No matching fbConfigs or visuals found\n",
      "libGL error: failed to load driver: swrast\n"
     ]
    }
   ],
   "source": [
    "cv2.imshow(\"Original\", gray)\n",
    "cv2.waitKey(0)\n",
    "cv2.destroyAllWindows()"
   ]
  },
  {
   "cell_type": "code",
   "execution_count": 6,
   "id": "35883a97-1517-4a5b-b8a8-95fc98fa29cd",
   "metadata": {},
   "outputs": [
    {
     "name": "stdout",
     "output_type": "stream",
     "text": [
      "[INFO] applying small_blur kernel\n",
      "[INFO] applying large_blur kernel\n",
      "[INFO] applying sharpen kernel\n",
      "[INFO] applying laplacian kernel\n",
      "[INFO] applying sobel_x kernel\n",
      "[INFO] applying sobel_y kernel\n",
      "[INFO] applying emboss kernel\n"
     ]
    }
   ],
   "source": [
    "%run convolutions.py --image jemma.png"
   ]
  },
  {
   "cell_type": "code",
   "execution_count": null,
   "id": "13add829-5d6b-4aa1-bab0-5381eadfede8",
   "metadata": {},
   "outputs": [],
   "source": []
  }
 ],
 "metadata": {
  "kernelspec": {
   "display_name": "Python (tf-gpu)",
   "language": "python",
   "name": "python-tf-gpu"
  },
  "language_info": {
   "codemirror_mode": {
    "name": "ipython",
    "version": 3
   },
   "file_extension": ".py",
   "mimetype": "text/x-python",
   "name": "python",
   "nbconvert_exporter": "python",
   "pygments_lexer": "ipython3",
   "version": "3.9.12"
  }
 },
 "nbformat": 4,
 "nbformat_minor": 5
}
